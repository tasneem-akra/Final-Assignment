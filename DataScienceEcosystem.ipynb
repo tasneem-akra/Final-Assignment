{
 "cells": [
  {
   "cell_type": "markdown",
   "id": "db6bdb73-cf7f-4245-af3f-0fb98f7ea0fa",
   "metadata": {},
   "source": [
    "# Data Science Tools and Ecosystem"
   ]
  },
  {
   "cell_type": "markdown",
   "id": "38cb194b-3c57-4c78-9db3-3dc789ebcbd2",
   "metadata": {},
   "source": [
    "In this notebook, Data Science Tools and Ecosystem are summarized."
   ]
  },
  {
   "cell_type": "markdown",
   "id": "7873ac96-3543-4ec6-971b-8d232e728592",
   "metadata": {},
   "source": [
    "Some of the popular languages that Data Scientists use are:\n",
    "1. R\n",
    "2. Python\n",
    "3. Java"
   ]
  },
  {
   "cell_type": "markdown",
   "id": "a1d4eafd-c3ee-4632-9a7f-27e475e32158",
   "metadata": {},
   "source": [
    "Some of the commonly used libraries used by Data Scientists include:\n",
    "\n",
    "1. NumPy\n",
    "2. Pandas\n",
    "3. Matplotlib\n",
    "4. Seaborn"
   ]
  },
  {
   "cell_type": "markdown",
   "id": "0fb70bfe-e005-4ec2-81b0-bcf207ef18b8",
   "metadata": {},
   "source": [
    "**Objectives:**\n",
    "+ Languages Used by Data Scientists\n",
    "+ Libraries Used by Data Scientists\n",
    "+ Fluency with Markdowns"
   ]
  },
  {
   "cell_type": "markdown",
   "id": "970b7e8e-376f-4d08-a7bc-8836295b76e9",
   "metadata": {},
   "source": [
    "|Data Science Tools|\n",
    "---------\n",
    "|Visual Studio Code|\n",
    "|Git|\n",
    "|Nodejs|"
   ]
  },
  {
   "cell_type": "markdown",
   "id": "06223560-fd4f-42aa-904d-fc2b590e0d2d",
   "metadata": {},
   "source": [
    "### Below are a few examples of evaluating arithmetic expressions in Python"
   ]
  },
  {
   "cell_type": "code",
   "execution_count": 17,
   "id": "afac0107-c95b-4a06-8d78-fd954029e20f",
   "metadata": {},
   "outputs": [
    {
     "name": "stdout",
     "output_type": "stream",
     "text": [
      "This a simple arithmetic expression to mutiply then add integers\n"
     ]
    },
    {
     "data": {
      "text/plain": [
       "17"
      ]
     },
     "execution_count": 17,
     "metadata": {},
     "output_type": "execute_result"
    }
   ],
   "source": [
    "print(\"This a simple arithmetic expression to mutiply then add integers\")\n",
    "\n",
    "(3*4)+5"
   ]
  },
  {
   "cell_type": "code",
   "execution_count": 19,
   "id": "8bb89ffe-17c4-4573-b909-86b2faa21747",
   "metadata": {},
   "outputs": [
    {
     "name": "stdout",
     "output_type": "stream",
     "text": [
      "This will convert 200 minutes to hours by diving by 60\n"
     ]
    },
    {
     "data": {
      "text/plain": [
       "3.3333333333333335"
      ]
     },
     "execution_count": 19,
     "metadata": {},
     "output_type": "execute_result"
    }
   ],
   "source": [
    "print(\"This will convert 200 minutes to hours by diving by 60\")\n",
    "200/60"
   ]
  },
  {
   "cell_type": "markdown",
   "id": "d2efeb22-e6f1-4c07-ae7a-f1422a468e4a",
   "metadata": {},
   "source": [
    "## Author\n",
    "Tasneem Akra"
   ]
  },
  {
   "cell_type": "code",
   "execution_count": null,
   "id": "d4cfc45e-2bb0-49c2-8a09-64aee4b9183e",
   "metadata": {},
   "outputs": [],
   "source": []
  }
 ],
 "metadata": {
  "kernelspec": {
   "display_name": "Python 3 (ipykernel)",
   "language": "python",
   "name": "python3"
  },
  "language_info": {
   "codemirror_mode": {
    "name": "ipython",
    "version": 3
   },
   "file_extension": ".py",
   "mimetype": "text/x-python",
   "name": "python",
   "nbconvert_exporter": "python",
   "pygments_lexer": "ipython3",
   "version": "3.12.4"
  }
 },
 "nbformat": 4,
 "nbformat_minor": 5
}
